{
 "cells": [
  {
   "cell_type": "markdown",
   "metadata": {
    "slideshow": {
     "slide_type": "slide"
    }
   },
   "source": [
    "# Conclusions"
   ]
  },
  {
   "cell_type": "markdown",
   "metadata": {
    "slideshow": {
     "slide_type": "subslide"
    }
   },
   "source": [
    "* Keras is a powerful and battery-included framework for Deep Learning in Python\n",
    "\n",
    "* Keras is **simple** to use..\n",
    "\n",
    "* ...but it is **not** for simple things!"
   ]
  },
  {
   "cell_type": "markdown",
   "metadata": {
    "slideshow": {
     "slide_type": "subslide"
    }
   },
   "source": [
    "<img src=\"imgs/keras_rank.jpg\" width=\"65%\" />"
   ]
  },
  {
   "cell_type": "markdown",
   "metadata": {
    "slideshow": {
     "slide_type": "subslide"
    }
   },
   "source": [
    "<img src=\"imgs/keras_rank_details.jpg\" width=\"65%\" />"
   ]
  },
  {
   "cell_type": "markdown",
   "metadata": {
    "slideshow": {
     "slide_type": "slide"
    }
   },
   "source": [
    "## Some References for .."
   ]
  },
  {
   "cell_type": "markdown",
   "metadata": {
    "slideshow": {
     "slide_type": "fragment"
    }
   },
   "source": [
    "#### Cutting Edge\n",
    "\n",
    "* Fractal Net Implementation with Keras: [https://github.com/snf/keras-fractalnet](https://github.com/snf/keras-fractalnet) -\n",
    "* Please check out: [https://github.com/fchollet/keras-resources](https://github.com/fchollet/keras-resources)"
   ]
  },
  {
   "cell_type": "markdown",
   "metadata": {
    "slideshow": {
     "slide_type": "fragment"
    }
   },
   "source": [
    "#### Hyper-Cool\n",
    "\n",
    "* Hyperas: https://github.com/maxpumperla/hyperas\n",
    "    - A web dashboard for Keras Models"
   ]
  },
  {
   "cell_type": "markdown",
   "metadata": {
    "slideshow": {
     "slide_type": "fragment"
    }
   },
   "source": [
    "#### Super-Cool\n",
    "\n",
    "* Keras.js: https://github.com/transcranial/keras-js\n",
    "    - Your Keras Model **inside your Browser**\n",
    "    - Showcase: https://transcranial.github.io/keras-js/"
   ]
  }
 ],
 "metadata": {
  "kernelspec": {
   "display_name": "Python 3",
   "language": "python",
   "name": "python3"
  },
  "language_info": {
   "codemirror_mode": {
    "name": "ipython",
    "version": 3
   },
   "file_extension": ".py",
   "mimetype": "text/x-python",
   "name": "python",
   "nbconvert_exporter": "python",
   "pygments_lexer": "ipython3",
   "version": "3.5.3"
  }
 },
 "nbformat": 4,
 "nbformat_minor": 1
}
